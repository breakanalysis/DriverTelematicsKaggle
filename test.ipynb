{
 "metadata": {
  "name": "",
  "signature": "sha256:e1855dc0ad45d90e80409d81d290d88c1d63d0c05bd154575ebded3c7f22de80"
 },
 "nbformat": 3,
 "nbformat_minor": 0,
 "worksheets": [
  {
   "cells": [
    {
     "cell_type": "code",
     "collapsed": false,
     "input": [
      "from Trace import Trace"
     ],
     "language": "python",
     "metadata": {},
     "outputs": [],
     "prompt_number": 3
    },
    {
     "cell_type": "code",
     "collapsed": false,
     "input": [
      "import StartRegressionSlow as r_slow\n"
     ],
     "language": "python",
     "metadata": {},
     "outputs": [],
     "prompt_number": 15
    },
    {
     "cell_type": "code",
     "collapsed": false,
     "input": [
      "folder = os.environ['TELEMATICS']"
     ],
     "language": "python",
     "metadata": {},
     "outputs": [
      {
       "ename": "NameError",
       "evalue": "name 'os' is not defined",
       "output_type": "pyerr",
       "traceback": [
        "\u001b[0;31m---------------------------------------------------------------------------\u001b[0m\n\u001b[0;31mNameError\u001b[0m                                 Traceback (most recent call last)",
        "\u001b[0;32m<ipython-input-3-e7ff7b84aa5a>\u001b[0m in \u001b[0;36m<module>\u001b[0;34m()\u001b[0m\n\u001b[0;32m----> 1\u001b[0;31m \u001b[0mfolder\u001b[0m \u001b[0;34m=\u001b[0m \u001b[0mos\u001b[0m\u001b[0;34m.\u001b[0m\u001b[0menviron\u001b[0m\u001b[0;34m[\u001b[0m\u001b[0;34m'TELEMATICS'\u001b[0m\u001b[0;34m]\u001b[0m\u001b[0;34m\u001b[0m\u001b[0m\n\u001b[0m",
        "\u001b[0;31mNameError\u001b[0m: name 'os' is not defined"
       ]
      }
     ],
     "prompt_number": 3
    },
    {
     "cell_type": "code",
     "collapsed": false,
     "input": [
      "import os"
     ],
     "language": "python",
     "metadata": {},
     "outputs": [],
     "prompt_number": 4
    },
    {
     "cell_type": "code",
     "collapsed": false,
     "input": [
      "folder = os.environ['TELEMATICS']\n"
     ],
     "language": "python",
     "metadata": {},
     "outputs": [],
     "prompt_number": 5
    },
    {
     "cell_type": "code",
     "collapsed": false,
     "input": [
      "print folder"
     ],
     "language": "python",
     "metadata": {},
     "outputs": [
      {
       "ename": "NameError",
       "evalue": "name 'folder' is not defined",
       "output_type": "pyerr",
       "traceback": [
        "\u001b[0;31m---------------------------------------------------------------------------\u001b[0m\n\u001b[0;31mNameError\u001b[0m                                 Traceback (most recent call last)",
        "\u001b[0;32m<ipython-input-11-bdea41216174>\u001b[0m in \u001b[0;36m<module>\u001b[0;34m()\u001b[0m\n\u001b[0;32m----> 1\u001b[0;31m \u001b[0;32mprint\u001b[0m \u001b[0mfolder\u001b[0m\u001b[0;34m\u001b[0m\u001b[0m\n\u001b[0m",
        "\u001b[0;31mNameError\u001b[0m: name 'folder' is not defined"
       ]
      }
     ],
     "prompt_number": 11
    },
    {
     "cell_type": "code",
     "collapsed": false,
     "input": [
      "from Driver import Driver\n",
      "from random import sample, seed\n",
      "import logging\n",
      "import os\n",
      "\n",
      "import StartRegressionSlow as reg_slow\n",
      "\n",
      "import logging\n",
      "import numpy as np\n",
      "\n",
      "logger = logging.getLogger()\n",
      "logger.setLevel(logging.DEBUG)\n",
      "\n",
      "folder = os.environ['TELEMATICS']\n",
      "foldername = folder\n",
      "referencenum = 5\n",
      "\n",
      "\n",
      "#seed(43)\n",
      "folders = [os.path.join(foldername, f) for f in os.listdir(foldername) if os.path.isdir(os.path.join(foldername, f))]\n",
      "referencefolders = [folders[i] for i in sorted(sample(xrange(len(folders)), referencenum))]\n",
      "logging.debug(referencefolders)\n",
      "referencedrivers = []\n",
      "    \n",
      "for referencefolder in referencefolders:\n",
      "    referencedrivers.append(Driver(referencefolder))\n",
      "    \n",
      "reg_slow.generatedata(referencedrivers)\n",
      "    \n",
      "reg_slow.grid_search(\"/Users/zhelezov/coding/octave/telematics/Telematics/drivers/1110\")\n",
      "\n",
      "\n",
      "#reg_slow.analysis(os.environ['TELEMATICS'], \"/Users/zhelezov/coding/python/telematics/axa-telematics/out\", 5, -1)\n"
     ],
     "language": "python",
     "metadata": {},
     "outputs": [
      {
       "output_type": "stream",
       "stream": "stderr",
       "text": [
        "DEBUG:root:['/Users/zhelezov/coding/octave/telematics/Telematics/drivers/1370', '/Users/zhelezov/coding/octave/telematics/Telematics/drivers/1724', '/Users/zhelezov/coding/octave/telematics/Telematics/drivers/2566', '/Users/zhelezov/coding/octave/telematics/Telematics/drivers/3266', '/Users/zhelezov/coding/octave/telematics/Telematics/drivers/3472']\n"
       ]
      },
      {
       "output_type": "stream",
       "stream": "stderr",
       "text": [
        "INFO:root:generating data model for driver 1370\n"
       ]
      },
      {
       "output_type": "stream",
       "stream": "stderr",
       "text": [
        "INFO:root:generating data model for driver 1724\n"
       ]
      },
      {
       "output_type": "stream",
       "stream": "stderr",
       "text": [
        "INFO:root:generating data model for driver 2566\n"
       ]
      },
      {
       "output_type": "stream",
       "stream": "stderr",
       "text": [
        "INFO:root:generating data model for driver 3266\n"
       ]
      },
      {
       "output_type": "stream",
       "stream": "stderr",
       "text": [
        "INFO:root:generating data model for driver 3472\n"
       ]
      },
      {
       "output_type": "stream",
       "stream": "stderr",
       "text": [
        "INFO:root:Grid search on /Users/zhelezov/coding/octave/telematics/Telematics/drivers/1110\n"
       ]
      },
      {
       "output_type": "stream",
       "stream": "stdout",
       "text": [
        "Fitting 5 folds for each of 24 candidates, totalling 120 fits\n"
       ]
      },
      {
       "output_type": "stream",
       "stream": "stdout",
       "text": [
        "[Parallel(n_jobs=4)]: Done   1 jobs       | elapsed:   16.3s\n",
        "[Parallel(n_jobs=4)]: Done   2 jobs       | elapsed:   17.2s\n",
        "[Parallel(n_jobs=4)]: Done   3 jobs       | elapsed:   17.2s\n",
        "[Parallel(n_jobs=4)]: Done   4 jobs       | elapsed:   17.2s\n",
        "[Parallel(n_jobs=4)]: Done   5 jobs       | elapsed:   31.1s\n",
        "[Parallel(n_jobs=4)]: Done   6 jobs       | elapsed:   32.0s\n",
        "[Parallel(n_jobs=4)]: Done   7 jobs       | elapsed:   33.0s\n",
        "[Parallel(n_jobs=4)]: Done   8 jobs       | elapsed:   33.0s\n",
        "[Parallel(n_jobs=4)]: Done   9 jobs       | elapsed:   46.2s\n",
        "[Parallel(n_jobs=4)]: Done  10 jobs       | elapsed:   46.6s\n",
        "[Parallel(n_jobs=4)]: Done  11 jobs       | elapsed:   48.3s\n",
        "[Parallel(n_jobs=4)]: Done  12 jobs       | elapsed:   49.4s\n",
        "[Parallel(n_jobs=4)]: Done  13 jobs       | elapsed:  1.0min\n",
        "[Parallel(n_jobs=4)]: Done  14 jobs       | elapsed:  1.1min\n",
        "[Parallel(n_jobs=4)]: Done  15 jobs       | elapsed:  1.1min\n",
        "[Parallel(n_jobs=4)]: Done  16 jobs       | elapsed:  1.1min\n",
        "[Parallel(n_jobs=4)]: Done  17 jobs       | elapsed:  1.3min\n",
        "[Parallel(n_jobs=4)]: Done  18 jobs       | elapsed:  1.3min\n",
        "[Parallel(n_jobs=4)]: Done  19 jobs       | elapsed:  1.3min\n",
        "[Parallel(n_jobs=4)]: Done  20 jobs       | elapsed:  1.3min\n",
        "[Parallel(n_jobs=4)]: Done  21 jobs       | elapsed:  1.5min\n",
        "[Parallel(n_jobs=4)]: Done  22 jobs       | elapsed:  1.6min\n",
        "[Parallel(n_jobs=4)]: Done  23 jobs       | elapsed:  1.6min\n",
        "[Parallel(n_jobs=4)]: Done  24 jobs       | elapsed:  1.6min\n",
        "[Parallel(n_jobs=4)]: Done  25 jobs       | elapsed:  1.8min\n",
        "[Parallel(n_jobs=4)]: Done  26 jobs       | elapsed:  1.8min\n",
        "[Parallel(n_jobs=4)]: Done  28 jobs       | elapsed:  1.9min\n",
        "[Parallel(n_jobs=4)]: Done  27 jobs       | elapsed:  1.9min\n",
        "[Parallel(n_jobs=4)]: Done  29 jobs       | elapsed:  2.1min\n",
        "[Parallel(n_jobs=4)]: Done  30 jobs       | elapsed:  2.1min\n",
        "[Parallel(n_jobs=4)]: Done  31 jobs       | elapsed:  2.2min\n",
        "[Parallel(n_jobs=4)]: Done  32 jobs       | elapsed:  2.2min\n",
        "[Parallel(n_jobs=4)]: Done  33 jobs       | elapsed:  2.4min\n",
        "[Parallel(n_jobs=4)]: Done  34 jobs       | elapsed:  2.5min\n",
        "[Parallel(n_jobs=4)]: Done  35 jobs       | elapsed:  2.5min\n",
        "[Parallel(n_jobs=4)]: Done  36 jobs       | elapsed:  2.5min\n",
        "[Parallel(n_jobs=4)]: Done  37 jobs       | elapsed:  2.7min\n",
        "[Parallel(n_jobs=4)]: Done  38 jobs       | elapsed:  2.7min\n",
        "[Parallel(n_jobs=4)]: Done  39 jobs       | elapsed:  2.7min\n",
        "[Parallel(n_jobs=4)]: Done  40 jobs       | elapsed:  2.7min\n",
        "[Parallel(n_jobs=4)]: Done  41 jobs       | elapsed:  2.9min\n",
        "[Parallel(n_jobs=4)]: Done  42 jobs       | elapsed:  2.9min\n",
        "[Parallel(n_jobs=4)]: Done  43 jobs       | elapsed:  3.0min\n",
        "[Parallel(n_jobs=4)]: Done  44 jobs       | elapsed:  3.0min\n",
        "[Parallel(n_jobs=4)]: Done  45 jobs       | elapsed:  3.1min\n",
        "[Parallel(n_jobs=4)]: Done  46 jobs       | elapsed:  3.2min\n",
        "[Parallel(n_jobs=4)]: Done  47 jobs       | elapsed:  3.2min\n",
        "[Parallel(n_jobs=4)]: Done  48 jobs       | elapsed:  3.2min\n",
        "[Parallel(n_jobs=4)]: Done  49 jobs       | elapsed:  3.4min\n",
        "[Parallel(n_jobs=4)]: Done  50 jobs       | elapsed:  3.4min\n",
        "[Parallel(n_jobs=4)]: Done  51 jobs       | elapsed:  3.4min\n",
        "[Parallel(n_jobs=4)]: Done  52 jobs       | elapsed:  3.4min\n",
        "[Parallel(n_jobs=4)]: Done  53 jobs       | elapsed:  3.6min\n",
        "[CV] classification__n_estimators=200, pca__n_components=100, pca__whiten=True, classification__max_depth=10 \n",
        "[CV] classification__n_estimators=200, pca__n_components=100, pca__whiten=True, classification__max_depth=10 \n",
        "[CV] classification__n_estimators=200, pca__n_components=100, pca__whiten=True, classification__max_depth=10 \n",
        "[CV] classification__n_estimators=200, pca__n_components=100, pca__whiten=True, classification__max_depth=10 \n",
        "[CV]  classification__n_estimators=200, pca__n_components=100, pca__whiten=True, classification__max_depth=10, score=0.907969 -  15.6s[CV]  classification__n_estimators=200, pca__n_components=100, pca__whiten=True, classification__max_depth=10, score=0.902188 -  15.7s[CV]  classification__n_estimators=200, pca__n_components=100, pca__whiten=True, classification__max_depth=10, score=0.880156 -  15.2s[CV]  classification__n_estimators=200, pca__n_components=100, pca__whiten=True, classification__max_depth=10, score=0.883281 -  14.5s\n",
        "\n",
        "\n",
        "\n",
        "[CV] classification__n_estimators=200, pca__n_components=100, pca__whiten=True, classification__max_depth=10 [CV] classification__n_estimators=200, pca__n_components=100, pca__whiten=False, classification__max_depth=10 [CV] classification__n_estimators=200, pca__n_components=100, pca__whiten=False, classification__max_depth=10 [CV] classification__n_estimators=200, pca__n_components=100, pca__whiten=False, classification__max_depth=10 \n",
        "\n",
        "\n",
        "\n",
        "[CV]  classification__n_estimators=200, pca__n_components=100, pca__whiten=True, classification__max_depth=10, score=0.897656 -  14.1s[CV]  classification__n_estimators=200, pca__n_components=100, pca__whiten=False, classification__max_depth=10, score=0.910313 -  14.2s[CV]  classification__n_estimators=200, pca__n_components=100, pca__whiten=False, classification__max_depth=10, score=0.895625 -  14.6s[CV]  classification__n_estimators=200, pca__n_components=100, pca__whiten=False, classification__max_depth=10, score=0.881719 -  13.7s\n",
        "\n",
        "\n",
        "\n",
        "[CV] classification__n_estimators=200, pca__n_components=100, pca__whiten=False, classification__max_depth=10 [CV] classification__n_estimators=200, pca__n_components=100, pca__whiten=False, classification__max_depth=10 [CV] classification__n_estimators=200, pca__n_components=150, pca__whiten=True, classification__max_depth=10 [CV] classification__n_estimators=200, pca__n_components=150, pca__whiten=True, classification__max_depth=10 \n",
        "\n",
        "\n",
        "\n",
        "[CV]  classification__n_estimators=200, pca__n_components=100, pca__whiten=False, classification__max_depth=10, score=0.888906 -  14.5s[CV]  classification__n_estimators=200, pca__n_components=100, pca__whiten=False, classification__max_depth=10, score=0.900313 -  14.1s[CV]  classification__n_estimators=200, pca__n_components=150, pca__whiten=True, classification__max_depth=10, score=0.913281 -  14.7s[CV]  classification__n_estimators=200, pca__n_components=150, pca__whiten=True, classification__max_depth=10, score=0.896250 -  15.0s\n",
        "\n",
        "\n",
        "\n",
        "[CV] classification__n_estimators=200, pca__n_components=150, pca__whiten=True, classification__max_depth=10 [CV] classification__n_estimators=200, pca__n_components=150, pca__whiten=True, classification__max_depth=10 [CV] classification__n_estimators=200, pca__n_components=150, pca__whiten=True, classification__max_depth=10 [CV] classification__n_estimators=200, pca__n_components=150, pca__whiten=False, classification__max_depth=10 \n",
        "\n",
        "\n",
        "\n",
        "[CV]  classification__n_estimators=200, pca__n_components=150, pca__whiten=True, classification__max_depth=10, score=0.884219 -  15.9s[CV]  classification__n_estimators=200, pca__n_components=150, pca__whiten=True, classification__max_depth=10, score=0.875469 -  15.7s[CV]  classification__n_estimators=200, pca__n_components=150, pca__whiten=True, classification__max_depth=10, score=0.908281 -  15.6s[CV]  classification__n_estimators=200, pca__n_components=150, pca__whiten=False, classification__max_depth=10, score=0.899219 -  15.6s\n",
        "\n",
        "\n",
        "\n",
        "[CV] classification__n_estimators=200, pca__n_components=150, pca__whiten=False, classification__max_depth=10 [CV] classification__n_estimators=200, pca__n_components=150, pca__whiten=False, classification__max_depth=10 [CV] classification__n_estimators=200, pca__n_components=150, pca__whiten=False, classification__max_depth=10 [CV] classification__n_estimators=200, pca__n_components=150, pca__whiten=False, classification__max_depth=10 \n",
        "\n",
        "\n",
        "\n",
        "[CV]  classification__n_estimators=200, pca__n_components=150, pca__whiten=False, classification__max_depth=10, score=0.899687 -  14.4s[CV]  classification__n_estimators=200, pca__n_components=150, pca__whiten=False, classification__max_depth=10, score=0.887969 -  13.9s[CV]  classification__n_estimators=200, pca__n_components=150, pca__whiten=False, classification__max_depth=10, score=0.880781 -  13.3s[CV]  classification__n_estimators=200, pca__n_components=150, pca__whiten=False, classification__max_depth=10, score=0.904062 -  12.3s\n",
        "\n",
        "\n",
        "\n",
        "[CV] classification__n_estimators=300, pca__n_components=100, pca__whiten=True, classification__max_depth=10 [CV] classification__n_estimators=300, pca__n_components=100, pca__whiten=True, classification__max_depth=10 [CV] classification__n_estimators=300, pca__n_components=100, pca__whiten=True, classification__max_depth=10 [CV] classification__n_estimators=300, pca__n_components=100, pca__whiten=True, classification__max_depth=10 \n",
        "\n",
        "\n",
        "\n",
        "[CV]  classification__n_estimators=300, pca__n_components=100, pca__whiten=True, classification__max_depth=10, score=0.907656 -  14.7s[CV]  classification__n_estimators=300, pca__n_components=100, pca__whiten=True, classification__max_depth=10, score=0.895156 -  14.9s[CV]  classification__n_estimators=300, pca__n_components=100, pca__whiten=True, classification__max_depth=10, score=0.890000 -  14.7s[CV]  classification__n_estimators=300, pca__n_components=100, pca__whiten=True, classification__max_depth=10, score=0.879219 -  14.6s\n",
        "\n",
        "\n",
        "\n",
        "[CV] classification__n_estimators=300, pca__n_components=100, pca__whiten=True, classification__max_depth=10 [CV] classification__n_estimators=300, pca__n_components=100, pca__whiten=False, classification__max_depth=10 [CV] classification__n_estimators=300, pca__n_components=100, pca__whiten=False, classification__max_depth=10 [CV] classification__n_estimators=300, pca__n_components=100, pca__whiten=False, classification__max_depth=10 \n",
        "\n",
        "\n",
        "\n",
        "[CV]  classification__n_estimators=300, pca__n_components=100, pca__whiten=True, classification__max_depth=10, score=0.904219 -  16.6s[CV]  classification__n_estimators=300, pca__n_components=100, pca__whiten=False, classification__max_depth=10, score=0.907813 -  16.8s[CV]  classification__n_estimators=300, pca__n_components=100, pca__whiten=False, classification__max_depth=10, score=0.898281 -  16.5s[CV]  classification__n_estimators=300, pca__n_components=100, pca__whiten=False, classification__max_depth=10, score=0.885156 -  15.5s\n",
        "\n",
        "\n",
        "\n",
        "[CV] classification__n_estimators=300, pca__n_components=100, pca__whiten=False, classification__max_depth=10 [CV] classification__n_estimators=300, pca__n_components=100, pca__whiten=False, classification__max_depth=10 [CV] classification__n_estimators=300, pca__n_components=150, pca__whiten=True, classification__max_depth=10 [CV] classification__n_estimators=300, pca__n_components=150, pca__whiten=True, classification__max_depth=10 \n",
        "\n",
        "\n",
        "\n",
        "[CV]  classification__n_estimators=300, pca__n_components=100, pca__whiten=False, classification__max_depth=10, score=0.886719 -  16.6s[CV]  classification__n_estimators=300, pca__n_components=100, pca__whiten=False, classification__max_depth=10, score=0.895625 -  16.9s[CV]  classification__n_estimators=300, pca__n_components=150, pca__whiten=True, classification__max_depth=10, score=0.896406 -  17.3s[CV]  classification__n_estimators=300, pca__n_components=150, pca__whiten=True, classification__max_depth=10, score=0.901250 -  18.3s\n",
        "\n",
        "\n",
        "\n",
        "[CV] classification__n_estimators=300, pca__n_components=150, pca__whiten=True, classification__max_depth=10 [CV] classification__n_estimators=300, pca__n_components=150, pca__whiten=True, classification__max_depth=10 [CV] classification__n_estimators=300, pca__n_components=150, pca__whiten=False, classification__max_depth=10 [CV] classification__n_estimators=300, pca__n_components=150, pca__whiten=True, classification__max_depth=10 \n",
        "\n",
        "\n",
        "\n",
        "[CV]  classification__n_estimators=300, pca__n_components=150, pca__whiten=True, classification__max_depth=10, score=0.892344 -  18.7s[CV]  classification__n_estimators=300, pca__n_components=150, pca__whiten=True, classification__max_depth=10, score=0.876406 -  19.3s[CV]  classification__n_estimators=300, pca__n_components=150, pca__whiten=False, classification__max_depth=10, score=0.902813 -  16.8s[CV]  classification__n_estimators=300, pca__n_components=150, pca__whiten=True, classification__max_depth=10, score=0.899375 -  17.8s\n",
        "\n",
        "\n",
        "\n",
        "[CV] classification__n_estimators=300, pca__n_components=150, pca__whiten=False, classification__max_depth=10 [CV] classification__n_estimators=300, pca__n_components=150, pca__whiten=False, classification__max_depth=10 [CV] classification__n_estimators=300, pca__n_components=150, pca__whiten=False, classification__max_depth=10 [CV] classification__n_estimators=300, pca__n_components=150, pca__whiten=False, classification__max_depth=10 \n",
        "\n",
        "\n",
        "\n",
        "[CV]  classification__n_estimators=300, pca__n_components=150, pca__whiten=False, classification__max_depth=10, score=0.906406 -  14.0s[CV]  classification__n_estimators=300, pca__n_components=150, pca__whiten=False, classification__max_depth=10, score=0.887813 -  13.7s[CV]  classification__n_estimators=300, pca__n_components=150, pca__whiten=False, classification__max_depth=10, score=0.905312 -  12.9s[CV]  classification__n_estimators=300, pca__n_components=150, pca__whiten=False, classification__max_depth=10, score=0.878281 -  13.4s\n",
        "\n",
        "\n",
        "\n",
        "[CV] classification__n_estimators=200, pca__n_components=100, pca__whiten=True, classification__max_depth=20 [CV] classification__n_estimators=200, pca__n_components=100, pca__whiten=True, classification__max_depth=20 [CV] classification__n_estimators=200, pca__n_components=100, pca__whiten=True, classification__max_depth=20 [CV] classification__n_estimators=200, pca__n_components=100, pca__whiten=True, classification__max_depth=20 \n",
        "\n",
        "\n",
        "\n",
        "[CV]  classification__n_estimators=200, pca__n_components=100, pca__whiten=True, classification__max_depth=20, score=0.913125 -  11.9s[CV]  classification__n_estimators=200, pca__n_components=100, pca__whiten=True, classification__max_depth=20, score=0.895234 -  12.3s[CV]  classification__n_estimators=200, pca__n_components=100, pca__whiten=True, classification__max_depth=20, score=0.882422 -  12.5s[CV]  classification__n_estimators=200, pca__n_components=100, pca__whiten=True, classification__max_depth=20, score=0.891797 -  12.3s\n",
        "\n",
        "\n",
        "\n",
        "[CV] classification__n_estimators=200, pca__n_components=100, pca__whiten=True, classification__max_depth=20 [CV] classification__n_estimators=200, pca__n_components=100, pca__whiten=False, classification__max_depth=20 [CV] classification__n_estimators=200, pca__n_components=100, pca__whiten=False, classification__max_depth=20 [CV] classification__n_estimators=200, pca__n_components=100, pca__whiten=False, classification__max_depth=20 \n",
        "\n",
        "\n",
        "\n",
        "[CV]  classification__n_estimators=200, pca__n_components=100, pca__whiten=True, classification__max_depth=20, score=0.903906 -  13.2s[CV]  classification__n_estimators=200, pca__n_components=100, pca__whiten=False, classification__max_depth=20, score=0.900547 -  13.5s[CV]  classification__n_estimators=200, pca__n_components=100, pca__whiten=False, classification__max_depth=20, score=0.883828 -  12.7s[CV]  classification__n_estimators=200, pca__n_components=100, pca__whiten=False, classification__max_depth=20, score=0.903750 -  12.7s\n",
        "\n",
        "\n",
        "\n",
        "[CV] classification__n_estimators=200, pca__n_components=100, pca__whiten=False, classification__max_depth=20 [CV] classification__n_estimators=200, pca__n_components=100, pca__whiten=False, classification__max_depth=20 [CV] classification__n_estimators=200, pca__n_components=150, pca__whiten=True, classification__max_depth=20 [CV] classification__n_estimators=200, pca__n_components=150, pca__whiten=True, classification__max_depth=20 \n",
        "\n",
        "\n",
        "\n",
        "[CV]  classification__n_estimators=200, pca__n_components=100, pca__whiten=False, classification__max_depth=20, score=0.885312 -  13.9s[CV]  classification__n_estimators=200, pca__n_components=100, pca__whiten=False, classification__max_depth=20, score=0.898281 -  13.2s[CV]  classification__n_estimators=200, pca__n_components=150, pca__whiten=True, classification__max_depth=20, score=0.902187 -  13.1s[CV]  classification__n_estimators=200, pca__n_components=150, pca__whiten=True, classification__max_depth=20, score=0.903750 -  13.7s\n",
        "\n",
        "\n",
        "\n",
        "[CV] classification__n_estimators=200, pca__n_components=150, pca__whiten=True, classification__max_depth=20 [CV] classification__n_estimators=200, pca__n_components=150, pca__whiten=True, classification__max_depth=20 [CV] classification__n_estimators=200, pca__n_components=150, pca__whiten=False, classification__max_depth=20 [CV] classification__n_estimators=200, pca__n_components=150, pca__whiten=True, classification__max_depth=20 \n",
        "\n",
        "\n",
        "\n",
        "[CV]  classification__n_estimators=200, pca__n_components=150, pca__whiten=True, classification__max_depth=20, score=0.887266 -  13.5s\n"
       ]
      },
      {
       "ename": "KeyboardInterrupt",
       "evalue": "",
       "output_type": "pyerr",
       "traceback": [
        "\u001b[0;31m---------------------------------------------------------------------------\u001b[0m\n\u001b[0;31mKeyboardInterrupt\u001b[0m                         Traceback (most recent call last)",
        "\u001b[0;32m<ipython-input-1-72bc2718f970>\u001b[0m in \u001b[0;36m<module>\u001b[0;34m()\u001b[0m\n\u001b[1;32m     28\u001b[0m \u001b[0mreg_slow\u001b[0m\u001b[0;34m.\u001b[0m\u001b[0mgeneratedata\u001b[0m\u001b[0;34m(\u001b[0m\u001b[0mreferencedrivers\u001b[0m\u001b[0;34m)\u001b[0m\u001b[0;34m\u001b[0m\u001b[0m\n\u001b[1;32m     29\u001b[0m \u001b[0;34m\u001b[0m\u001b[0m\n\u001b[0;32m---> 30\u001b[0;31m \u001b[0mreg_slow\u001b[0m\u001b[0;34m.\u001b[0m\u001b[0mgrid_search\u001b[0m\u001b[0;34m(\u001b[0m\u001b[0;34m\"/Users/zhelezov/coding/octave/telematics/Telematics/drivers/1110\"\u001b[0m\u001b[0;34m)\u001b[0m\u001b[0;34m\u001b[0m\u001b[0m\n\u001b[0m\u001b[1;32m     31\u001b[0m \u001b[0;34m\u001b[0m\u001b[0m\n\u001b[1;32m     32\u001b[0m \u001b[0;34m\u001b[0m\u001b[0m\n",
        "\u001b[0;32m/Users/zhelezov/coding/python/telematics/HelloWorld/StartRegressionSlow.pyc\u001b[0m in \u001b[0;36mgrid_search\u001b[0;34m(folder)\u001b[0m\n\u001b[1;32m     50\u001b[0m     \u001b[0mtemp\u001b[0m \u001b[0;34m=\u001b[0m \u001b[0mDriver\u001b[0m\u001b[0;34m(\u001b[0m\u001b[0mfolder\u001b[0m\u001b[0;34m)\u001b[0m\u001b[0;34m\u001b[0m\u001b[0m\n\u001b[1;32m     51\u001b[0m     \u001b[0mcls\u001b[0m \u001b[0;34m=\u001b[0m \u001b[0mRegressionDriver\u001b[0m\u001b[0;34m(\u001b[0m\u001b[0mtemp\u001b[0m\u001b[0;34m,\u001b[0m \u001b[0mREFERENCE_DATA\u001b[0m\u001b[0;34m)\u001b[0m\u001b[0;34m\u001b[0m\u001b[0m\n\u001b[0;32m---> 52\u001b[0;31m     \u001b[0mcls\u001b[0m\u001b[0;34m.\u001b[0m\u001b[0mgrid_search\u001b[0m\u001b[0;34m(\u001b[0m\u001b[0;34m)\u001b[0m\u001b[0;34m\u001b[0m\u001b[0m\n\u001b[0m\u001b[1;32m     53\u001b[0m \u001b[0;34m\u001b[0m\u001b[0m\n\u001b[1;32m     54\u001b[0m \u001b[0;32mdef\u001b[0m \u001b[0manalysis\u001b[0m\u001b[0;34m(\u001b[0m\u001b[0mfoldername\u001b[0m\u001b[0;34m,\u001b[0m \u001b[0moutdir\u001b[0m\u001b[0;34m,\u001b[0m \u001b[0mreferencenum\u001b[0m\u001b[0;34m,\u001b[0m \u001b[0mmax_drivers\u001b[0m \u001b[0;34m=\u001b[0m \u001b[0;36m5\u001b[0m\u001b[0;34m)\u001b[0m\u001b[0;34m:\u001b[0m\u001b[0;34m\u001b[0m\u001b[0m\n",
        "\u001b[0;32m/Users/zhelezov/coding/python/telematics/HelloWorld/RegressionDriver.py\u001b[0m in \u001b[0;36mgrid_search\u001b[0;34m(self)\u001b[0m\n\u001b[1;32m     90\u001b[0m             scoring='roc_auc', verbose=50, n_jobs=4)\n\u001b[1;32m     91\u001b[0m \u001b[0;34m\u001b[0m\u001b[0m\n\u001b[0;32m---> 92\u001b[0;31m         \u001b[0mclf\u001b[0m\u001b[0;34m.\u001b[0m\u001b[0mfit\u001b[0m\u001b[0;34m(\u001b[0m\u001b[0mself\u001b[0m\u001b[0;34m.\u001b[0m\u001b[0m__traindata\u001b[0m\u001b[0;34m,\u001b[0m \u001b[0mself\u001b[0m\u001b[0;34m.\u001b[0m\u001b[0m__trainlabels\u001b[0m\u001b[0;34m)\u001b[0m\u001b[0;34m\u001b[0m\u001b[0m\n\u001b[0m\u001b[1;32m     93\u001b[0m \u001b[0;34m\u001b[0m\u001b[0m\n\u001b[1;32m     94\u001b[0m \u001b[0;34m\u001b[0m\u001b[0m\n",
        "\u001b[0;32m/Users/zhelezov/anaconda/lib/python2.7/site-packages/sklearn/grid_search.pyc\u001b[0m in \u001b[0;36mfit\u001b[0;34m(self, X, y)\u001b[0m\n\u001b[1;32m    594\u001b[0m \u001b[0;34m\u001b[0m\u001b[0m\n\u001b[1;32m    595\u001b[0m         \"\"\"\n\u001b[0;32m--> 596\u001b[0;31m         \u001b[0;32mreturn\u001b[0m \u001b[0mself\u001b[0m\u001b[0;34m.\u001b[0m\u001b[0m_fit\u001b[0m\u001b[0;34m(\u001b[0m\u001b[0mX\u001b[0m\u001b[0;34m,\u001b[0m \u001b[0my\u001b[0m\u001b[0;34m,\u001b[0m \u001b[0mParameterGrid\u001b[0m\u001b[0;34m(\u001b[0m\u001b[0mself\u001b[0m\u001b[0;34m.\u001b[0m\u001b[0mparam_grid\u001b[0m\u001b[0;34m)\u001b[0m\u001b[0;34m)\u001b[0m\u001b[0;34m\u001b[0m\u001b[0m\n\u001b[0m\u001b[1;32m    597\u001b[0m \u001b[0;34m\u001b[0m\u001b[0m\n\u001b[1;32m    598\u001b[0m \u001b[0;34m\u001b[0m\u001b[0m\n",
        "\u001b[0;32m/Users/zhelezov/anaconda/lib/python2.7/site-packages/sklearn/grid_search.pyc\u001b[0m in \u001b[0;36m_fit\u001b[0;34m(self, X, y, parameter_iterable)\u001b[0m\n\u001b[1;32m    376\u001b[0m                                     \u001b[0mtrain\u001b[0m\u001b[0;34m,\u001b[0m \u001b[0mtest\u001b[0m\u001b[0;34m,\u001b[0m \u001b[0mself\u001b[0m\u001b[0;34m.\u001b[0m\u001b[0mverbose\u001b[0m\u001b[0;34m,\u001b[0m \u001b[0mparameters\u001b[0m\u001b[0;34m,\u001b[0m\u001b[0;34m\u001b[0m\u001b[0m\n\u001b[1;32m    377\u001b[0m                                     self.fit_params, return_parameters=True)\n\u001b[0;32m--> 378\u001b[0;31m             \u001b[0;32mfor\u001b[0m \u001b[0mparameters\u001b[0m \u001b[0;32min\u001b[0m \u001b[0mparameter_iterable\u001b[0m\u001b[0;34m\u001b[0m\u001b[0m\n\u001b[0m\u001b[1;32m    379\u001b[0m             for train, test in cv)\n\u001b[1;32m    380\u001b[0m \u001b[0;34m\u001b[0m\u001b[0m\n",
        "\u001b[0;32m/Users/zhelezov/anaconda/lib/python2.7/site-packages/sklearn/externals/joblib/parallel.pyc\u001b[0m in \u001b[0;36m__call__\u001b[0;34m(self, iterable)\u001b[0m\n\u001b[1;32m    658\u001b[0m                 \u001b[0;31m# consumption.\u001b[0m\u001b[0;34m\u001b[0m\u001b[0;34m\u001b[0m\u001b[0m\n\u001b[1;32m    659\u001b[0m                 \u001b[0mself\u001b[0m\u001b[0;34m.\u001b[0m\u001b[0m_iterating\u001b[0m \u001b[0;34m=\u001b[0m \u001b[0mFalse\u001b[0m\u001b[0;34m\u001b[0m\u001b[0m\n\u001b[0;32m--> 660\u001b[0;31m             \u001b[0mself\u001b[0m\u001b[0;34m.\u001b[0m\u001b[0mretrieve\u001b[0m\u001b[0;34m(\u001b[0m\u001b[0;34m)\u001b[0m\u001b[0;34m\u001b[0m\u001b[0m\n\u001b[0m\u001b[1;32m    661\u001b[0m             \u001b[0;31m# Make sure that we get a last message telling us we are done\u001b[0m\u001b[0;34m\u001b[0m\u001b[0;34m\u001b[0m\u001b[0m\n\u001b[1;32m    662\u001b[0m             \u001b[0melapsed_time\u001b[0m \u001b[0;34m=\u001b[0m \u001b[0mtime\u001b[0m\u001b[0;34m.\u001b[0m\u001b[0mtime\u001b[0m\u001b[0;34m(\u001b[0m\u001b[0;34m)\u001b[0m \u001b[0;34m-\u001b[0m \u001b[0mself\u001b[0m\u001b[0;34m.\u001b[0m\u001b[0m_start_time\u001b[0m\u001b[0;34m\u001b[0m\u001b[0m\n",
        "\u001b[0;32m/Users/zhelezov/anaconda/lib/python2.7/site-packages/sklearn/externals/joblib/parallel.pyc\u001b[0m in \u001b[0;36mretrieve\u001b[0;34m(self)\u001b[0m\n\u001b[1;32m    524\u001b[0m                             \u001b[0;31m# We can now allow subprocesses again\u001b[0m\u001b[0;34m\u001b[0m\u001b[0;34m\u001b[0m\u001b[0m\n\u001b[1;32m    525\u001b[0m                             \u001b[0mos\u001b[0m\u001b[0;34m.\u001b[0m\u001b[0menviron\u001b[0m\u001b[0;34m.\u001b[0m\u001b[0mpop\u001b[0m\u001b[0;34m(\u001b[0m\u001b[0;34m'__JOBLIB_SPAWNED_PARALLEL__'\u001b[0m\u001b[0;34m,\u001b[0m \u001b[0;36m0\u001b[0m\u001b[0;34m)\u001b[0m\u001b[0;34m\u001b[0m\u001b[0m\n\u001b[0;32m--> 526\u001b[0;31m                         \u001b[0;32mraise\u001b[0m \u001b[0mexception\u001b[0m\u001b[0;34m\u001b[0m\u001b[0m\n\u001b[0m\u001b[1;32m    527\u001b[0m                     \u001b[0;32melif\u001b[0m \u001b[0misinstance\u001b[0m\u001b[0;34m(\u001b[0m\u001b[0mexception\u001b[0m\u001b[0;34m,\u001b[0m \u001b[0mTransportableException\u001b[0m\u001b[0;34m)\u001b[0m\u001b[0;34m:\u001b[0m\u001b[0;34m\u001b[0m\u001b[0m\n\u001b[1;32m    528\u001b[0m                         \u001b[0;31m# Capture exception to add information on the local\u001b[0m\u001b[0;34m\u001b[0m\u001b[0;34m\u001b[0m\u001b[0m\n",
        "\u001b[0;31mKeyboardInterrupt\u001b[0m: "
       ]
      }
     ],
     "prompt_number": 1
    },
    {
     "cell_type": "code",
     "collapsed": false,
     "input": [
      "print referencefolder"
     ],
     "language": "python",
     "metadata": {},
     "outputs": [
      {
       "output_type": "stream",
       "stream": "stdout",
       "text": [
        "/Users/zhelezov/coding/octave/telematics/Telematics/drivers/3591\n"
       ]
      }
     ],
     "prompt_number": 2
    },
    {
     "cell_type": "code",
     "collapsed": false,
     "input": [
      "import StartRegressionSlow as reg_slow"
     ],
     "language": "python",
     "metadata": {},
     "outputs": [],
     "prompt_number": 9
    },
    {
     "cell_type": "code",
     "collapsed": false,
     "input": [
      "\n",
      "logging.debug(\"test %s\", np.array([232, 2323, 2323]))\n",
      "\n",
      "\n"
     ],
     "language": "python",
     "metadata": {},
     "outputs": [
      {
       "output_type": "stream",
       "stream": "stderr",
       "text": [
        "DEBUG:root:test [ 232 2323 2323]\n"
       ]
      }
     ],
     "prompt_number": 45
    },
    {
     "cell_type": "code",
     "collapsed": false,
     "input": [],
     "language": "python",
     "metadata": {},
     "outputs": [
      {
       "ename": "NameError",
       "evalue": "name 'reg_slow' is not defined",
       "output_type": "pyerr",
       "traceback": [
        "\u001b[0;31m---------------------------------------------------------------------------\u001b[0m\n\u001b[0;31mNameError\u001b[0m                                 Traceback (most recent call last)",
        "\u001b[0;32m<ipython-input-1-fc8fbb9ab263>\u001b[0m in \u001b[0;36m<module>\u001b[0;34m()\u001b[0m\n\u001b[0;32m----> 1\u001b[0;31m \u001b[0mreg_slow\u001b[0m\u001b[0;34m.\u001b[0m\u001b[0mgeneratedata\u001b[0m\u001b[0;34m(\u001b[0m\u001b[0mreferencedrivers\u001b[0m\u001b[0;34m)\u001b[0m\u001b[0;34m\u001b[0m\u001b[0m\n\u001b[0m\u001b[1;32m      2\u001b[0m \u001b[0mreg_slow\u001b[0m\u001b[0;34m.\u001b[0m\u001b[0mperform_analysis\u001b[0m\u001b[0;34m(\u001b[0m\u001b[0;34m\"/Users/zhelezov/coding/octave/telematics/Telematics/drivers/3591\"\u001b[0m\u001b[0;34m,\u001b[0m \u001b[0mTrue\u001b[0m\u001b[0;34m)\u001b[0m\u001b[0;34m\u001b[0m\u001b[0m\n",
        "\u001b[0;31mNameError\u001b[0m: name 'reg_slow' is not defined"
       ]
      }
     ],
     "prompt_number": 1
    },
    {
     "cell_type": "code",
     "collapsed": false,
     "input": [
      "x = np.append(x, np.array([20, 202]))"
     ],
     "language": "python",
     "metadata": {},
     "outputs": [],
     "prompt_number": 47
    },
    {
     "cell_type": "code",
     "collapsed": false,
     "input": [
      "x = np.append(x, [20, 20])"
     ],
     "language": "python",
     "metadata": {},
     "outputs": [],
     "prompt_number": 48
    },
    {
     "cell_type": "code",
     "collapsed": false,
     "input": [
      "print x"
     ],
     "language": "python",
     "metadata": {},
     "outputs": [
      {
       "output_type": "stream",
       "stream": "stdout",
       "text": [
        "[  20.  202.   20.   20.]\n"
       ]
      }
     ],
     "prompt_number": 49
    },
    {
     "cell_type": "code",
     "collapsed": false,
     "input": [
      "t = Trace(1,1)"
     ],
     "language": "python",
     "metadata": {},
     "outputs": [],
     "prompt_number": 50
    },
    {
     "cell_type": "code",
     "collapsed": false,
     "input": [
      "print t.features"
     ],
     "language": "python",
     "metadata": {},
     "outputs": [
      {
       "output_type": "stream",
       "stream": "stdout",
       "text": [
        "[4351.885666007323, 553, 82.735017979087615, array([ 0.,  0.,  0., ...,  0.,  0.,  0.])]\n"
       ]
      }
     ],
     "prompt_number": 51
    },
    {
     "cell_type": "code",
     "collapsed": false,
     "input": [
      "x = t.features"
     ],
     "language": "python",
     "metadata": {},
     "outputs": [],
     "prompt_number": 7
    },
    {
     "cell_type": "code",
     "collapsed": false,
     "input": [
      "print np.append(x, [20])"
     ],
     "language": "python",
     "metadata": {},
     "outputs": [
      {
       "output_type": "stream",
       "stream": "stdout",
       "text": [
        "[ 4351.88566601   553.            82.73501798 ...,     0.             0.\n",
        "    20.        ]\n"
       ]
      }
     ],
     "prompt_number": 8
    },
    {
     "cell_type": "code",
     "collapsed": false,
     "input": [
      "print t.features.shape[0]"
     ],
     "language": "python",
     "metadata": {},
     "outputs": [
      {
       "output_type": "stream",
       "stream": "stdout",
       "text": [
        "8003\n"
       ]
      }
     ],
     "prompt_number": 9
    },
    {
     "cell_type": "code",
     "collapsed": false,
     "input": [
      "import joblib"
     ],
     "language": "python",
     "metadata": {},
     "outputs": [],
     "prompt_number": 2
    },
    {
     "cell_type": "code",
     "collapsed": false,
     "input": [],
     "language": "python",
     "metadata": {},
     "outputs": []
    }
   ],
   "metadata": {}
  }
 ]
}