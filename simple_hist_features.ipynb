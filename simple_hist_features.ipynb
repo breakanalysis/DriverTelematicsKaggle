{
 "metadata": {
  "name": "",
  "signature": "sha256:097ceb96a87cfb9e0b7c907041b3bd6f26802ebc69bef02cbb99fddf04bc1e4b"
 },
 "nbformat": 3,
 "nbformat_minor": 0,
 "worksheets": [
  {
   "cells": [
    {
     "cell_type": "code",
     "collapsed": false,
     "input": [
      "import TelematicsHelper as th\n",
      "import matplotlib.pyplot as plt\n",
      "import numpy as np\n",
      "\n",
      "BINS=20\n",
      "FEATURES_NUM = BINS**3\n",
      "\n",
      "def get_features(data, concat=False, plot=False):\n",
      "    #.shape\n",
      "    len_t = np.shape(data)[0]\n",
      "\n",
      "    times,X = th.rescale_route(data)\n",
      "    curv = [] #th.curvature(data)\n",
      "    vel = th.velocity(data)\n",
      "    acc = th.accel(data, vel)\n",
      "    angles = th.angles(data)*180.0/np.pi\n",
      "\n",
      "    \n",
      "    \n",
      "    #just put everything in a huge multidimensional histogram\n",
      "    v_acc_ang_h, edges = np.histogramdd([vel[:-1], acc, angles], range=([0, 160], [-20, 20], [-180, 180]), bins=BINS, normed=True)\n",
      "    \n",
      "    if (concat):\n",
      "        return np.ravel(v_acc_ang_h)\n",
      "    \n",
      "    return v_acc_ang_h, edges#vel_h, acc_h, curv_h, angles_h\n",
      "\n",
      "def get_all_driver_features(driver_id):\n",
      "    X = np.zeros((200, FEATURES_NUM))\n",
      "    for i in range(0, 200):\n",
      "        d1_data = th.get_data(driver_id, i+1)\n",
      "        X[i, :] = get_features(d1_data, True)\n",
      "    \n",
      "    return X\n",
      "\n",
      "def get_even_training_data(driver_id, n_routes=200, all_drivers=np.arange(1, 2735), randomize=True, weight=1):\n",
      "    rest_d = np.delete(all_drivers, driver_id)\n",
      "    \n",
      "    size_0 = int(weight*n_routes)\n",
      "    size_1 = n_routes\n",
      "    routes_1 = np.random.choice(200, n_routes, replace=False)\n",
      "    \n",
      "    labels = np.concatenate([np.full(size_1, 1, dtype=int), np.full(size_0, 0, dtype=int)])\n",
      "    drivers_0 = np.random.choice(rest_d, size_0, replace=False) #prevent duplicates\n",
      "    routes_0 = np.random.choice(200, size_0)\n",
      "    \n",
      "    \n",
      "    X = np.zeros((size_1 + size_0, FEATURES_NUM))\n",
      "    \n",
      "    for i in range(0, size_1):\n",
      "        d1_data = th.get_data(driver_id, routes_1[i]+1)\n",
      "        X[i, :] = get_features(d1_data, True)\n",
      "    \n",
      "    shift = size_1\n",
      "    \n",
      "    for i in range(0, size_0):\n",
      "        d0_data = th.get_data(drivers_0[i], routes_0[i] + 1)\n",
      "        X[shift + i, :] = get_features(d0_data, True)\n",
      "    \n",
      "    return X, labels\n",
      "    \n",
      "def get_training_data(driver_1_id, drivers_0_ids, r_ids=np.arange(1,201)):\n",
      "## generate one big training data by labeled with ones for driver_1 paths \n",
      "## versus all other drivers routes, labeled. \n",
      "    r_num = np.size(r_ids)\n",
      "    d_num = np.size(drivers_0_ids)\n",
      "    ## ones for the first driver and zeroes for the others\n",
      "    labels = np.concatenate([np.full(r_num, 1, dtype=int), np.full(r_num*d_num, 0, dtype=int)])\n",
      "    \n",
      "    sample_data = th.get_data(driver_1_id, 1)\n",
      "    sample_feat = get_features(sample_data, True)\n",
      "    \n",
      "    X = np.zeros(((d_num+1)*r_num, np.size(sample_feat)))\n",
      "    i = 0 #index of routes\n",
      "    for r_id in r_ids:\n",
      "        d1_data = th.get_data(driver_1_id, r_id)\n",
      "        X[i, :] = get_features(d1_data, True)\n",
      "        j = 1 #index of drivers\n",
      "        for d_id in drivers_0_ids:\n",
      "            d0_data = th.get_data(d_id, r_id)\n",
      "            X[j*r_num + i, :] = get_features(d0_data, True)\n",
      "            j += 1\n",
      "        i += 1    \n",
      "            \n",
      "        \n",
      "    return X, labels\n",
      "       "
     ],
     "language": "python",
     "metadata": {},
     "outputs": [],
     "prompt_number": 12
    },
    {
     "cell_type": "code",
     "collapsed": false,
     "input": [
      "data = th.get_data(1,2)\n",
      "hh = get_features(data, True, False)\n",
      "\n",
      "print np.size(hh)\n",
      "print np.size(data)\n"
     ],
     "language": "python",
     "metadata": {},
     "outputs": [
      {
       "output_type": "stream",
       "stream": "stdout",
       "text": [
        "8000\n",
        "510\n"
       ]
      }
     ],
     "prompt_number": 2
    },
    {
     "cell_type": "code",
     "collapsed": false,
     "input": [
      "data = th.get_data(1,10)\n",
      "feat = get_features(data, True, True)\n",
      "\n"
     ],
     "language": "python",
     "metadata": {},
     "outputs": [],
     "prompt_number": 3
    },
    {
     "cell_type": "code",
     "collapsed": false,
     "input": [
      "print np.diff(data, axis=0)"
     ],
     "language": "python",
     "metadata": {},
     "outputs": [
      {
       "output_type": "stream",
       "stream": "stdout",
       "text": [
        "[[ 0.  1.]\n",
        " [ 1.  0.]\n",
        " [ 0.  1.]]\n"
       ]
      }
     ],
     "prompt_number": 46
    },
    {
     "cell_type": "code",
     "collapsed": false,
     "input": [
      "cosang = np.dot([ 0., 1.], [ 1.,  0.])\n",
      "sinang = np.cross([ 0.,  1.], [ 1.,  0.])\n",
      "print np.arctan2(sinang, cosang)\n",
      "\n",
      "cosang = np.dot([ 1.,  0.], [ 0.,  1.])\n",
      "sinang = np.cross([ 1.,  0.], [ 0.,  1.])\n",
      "print np.arctan2(sinang, cosang)\n",
      "\n"
     ],
     "language": "python",
     "metadata": {},
     "outputs": [
      {
       "output_type": "stream",
       "stream": "stdout",
       "text": [
        "-1.57079632679\n",
        "1.57079632679\n"
       ]
      }
     ],
     "prompt_number": 48
    },
    {
     "cell_type": "code",
     "collapsed": false,
     "input": [
      "labels = np.concatenate([np.full(5, 1,dtype=int), np.full(5,0,dtype=int)])"
     ],
     "language": "python",
     "metadata": {},
     "outputs": [],
     "prompt_number": 79
    },
    {
     "cell_type": "code",
     "collapsed": false,
     "input": [
      "print labels"
     ],
     "language": "python",
     "metadata": {},
     "outputs": [
      {
       "output_type": "stream",
       "stream": "stdout",
       "text": [
        "[1 1 1 1 1 0 0 0 0 0]\n"
       ]
      }
     ],
     "prompt_number": 80
    },
    {
     "cell_type": "code",
     "collapsed": false,
     "input": [],
     "language": "python",
     "metadata": {},
     "outputs": [
      {
       "ename": "SyntaxError",
       "evalue": "invalid syntax (<ipython-input-83-b9613e1b8db5>, line 1)",
       "output_type": "pyerr",
       "traceback": [
        "\u001b[0;36m  File \u001b[0;32m\"<ipython-input-83-b9613e1b8db5>\"\u001b[0;36m, line \u001b[0;32m1\u001b[0m\n\u001b[0;31m    1:20:1j\u001b[0m\n\u001b[0m     ^\u001b[0m\n\u001b[0;31mSyntaxError\u001b[0m\u001b[0;31m:\u001b[0m invalid syntax\n"
       ]
      }
     ],
     "prompt_number": 83
    },
    {
     "cell_type": "code",
     "collapsed": false,
     "input": [
      "print np.shape(th.get_driver_ids())"
     ],
     "language": "python",
     "metadata": {},
     "outputs": [
      {
       "output_type": "stream",
       "stream": "stdout",
       "text": [
        "(2735,)\n"
       ]
      }
     ],
     "prompt_number": 105
    },
    {
     "cell_type": "code",
     "collapsed": false,
     "input": [
      "x = th.get_driver_ids()\n",
      "y = np.delete(x, 1)"
     ],
     "language": "python",
     "metadata": {},
     "outputs": [],
     "prompt_number": 112
    },
    {
     "cell_type": "code",
     "collapsed": false,
     "input": [
      "print np.shape(y)"
     ],
     "language": "python",
     "metadata": {},
     "outputs": [
      {
       "output_type": "stream",
       "stream": "stdout",
       "text": [
        "(2734,)\n"
       ]
      }
     ],
     "prompt_number": 113
    },
    {
     "cell_type": "code",
     "collapsed": false,
     "input": [
      "print np.shape(x)"
     ],
     "language": "python",
     "metadata": {},
     "outputs": [
      {
       "output_type": "stream",
       "stream": "stdout",
       "text": [
        "(2735,)\n"
       ]
      }
     ],
     "prompt_number": 114
    },
    {
     "cell_type": "code",
     "collapsed": false,
     "input": [
      "print np.arange(1,10)"
     ],
     "language": "python",
     "metadata": {},
     "outputs": [
      {
       "output_type": "stream",
       "stream": "stdout",
       "text": [
        "[1 2 3 4 5 6 7 8 9]\n"
       ]
      }
     ],
     "prompt_number": 119
    },
    {
     "cell_type": "code",
     "collapsed": false,
     "input": [
      "print get_even_training_data(1, 3)"
     ],
     "language": "python",
     "metadata": {},
     "outputs": [
      {
       "output_type": "stream",
       "stream": "stdout",
       "text": [
        "(array([[ 0.,  0.,  0., ...,  0.,  0.,  0.],\n",
        "       [ 0.,  0.,  0., ...,  0.,  0.,  0.],\n",
        "       [ 0.,  0.,  0., ...,  0.,  0.,  0.],\n",
        "       [ 0.,  0.,  0., ...,  0.,  0.,  0.],\n",
        "       [ 0.,  0.,  0., ...,  0.,  0.,  0.],\n",
        "       [ 0.,  0.,  0., ...,  0.,  0.,  0.]]), array([1, 1, 1, 0, 0, 0]))\n"
       ]
      }
     ],
     "prompt_number": 7
    },
    {
     "cell_type": "code",
     "collapsed": false,
     "input": [
      "print get_all_driver_features(1)"
     ],
     "language": "python",
     "metadata": {},
     "outputs": [
      {
       "output_type": "stream",
       "stream": "stdout",
       "text": [
        "[[ 0.  0.  0. ...,  0.  0.  0.]\n",
        " [ 0.  0.  0. ...,  0.  0.  0.]\n",
        " [ 0.  0.  0. ...,  0.  0.  0.]\n",
        " ..., \n",
        " [ 0.  0.  0. ...,  0.  0.  0.]\n",
        " [ 0.  0.  0. ...,  0.  0.  0.]\n",
        " [ 0.  0.  0. ...,  0.  0.  0.]]\n"
       ]
      }
     ],
     "prompt_number": 11
    },
    {
     "cell_type": "code",
     "collapsed": false,
     "input": [],
     "language": "python",
     "metadata": {},
     "outputs": []
    }
   ],
   "metadata": {}
  }
 ]
}