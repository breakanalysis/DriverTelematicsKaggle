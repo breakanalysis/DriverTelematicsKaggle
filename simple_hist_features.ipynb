{
 "metadata": {
  "name": "",
  "signature": "sha256:86872edb69bfcb2afbab706599008c548262b41b52119b48b79bb11ba4c14f7a"
 },
 "nbformat": 3,
 "nbformat_minor": 0,
 "worksheets": [
  {
   "cells": [
    {
     "cell_type": "code",
     "collapsed": false,
     "input": [
      "import TelematicsHelper as th\n",
      "import matplotlib.pyplot as plt\n",
      "import numpy as np\n",
      "\n",
      "def get_features(data, concat=False, plot=False):\n",
      "    #.shape\n",
      "    len_t = np.shape(data)[0]\n",
      "\n",
      "    times,X = th.rescale_route(data)\n",
      "    curv = [] #th.curvature(data)\n",
      "    vel = th.velocity(data)\n",
      "    acc = th.accel(data, vel)\n",
      "    angles = th.angles(data)*180.0/np.pi\n",
      "\n",
      "    \n",
      "    \n",
      "    #just put everything in a huge multidimensional histogram\n",
      "    v_acc_ang_h, edges = np.histogramdd([vel[:-1], acc, angles], range=([0, 160], [-20, 20], [-180, 180]), bins=20)\n",
      "    \n",
      "    if (concat):\n",
      "        return np.ravel(v_acc_ang_h)\n",
      "    \n",
      "    return v_acc_ang_h, edges#vel_h, acc_h, curv_h, angles_h\n",
      "\n",
      "\n",
      "def get_training_data(driver_1_id, drivers_0_ids, r_ids=np.arange(1,201)):\n",
      "## generate one big training data by labeled with ones for driver_1 paths \n",
      "## versus all other drivers routes, labeled. \n",
      "    r_num = np.size(r_ids)\n",
      "    d_num = np.size(drivers_0_ids)\n",
      "    ## ones for the first driver and zeroes for the others\n",
      "    labels = np.concatenate([np.full(r_num, 1, dtype=int), np.full(r_num*d_num, 0, dtype=int)])\n",
      "    \n",
      "    sample_data = th.get_data(driver_1_id, 1)\n",
      "    sample_feat = get_features(sample_data, True)\n",
      "    \n",
      "    X = np.zeros(((d_num+1)*r_num, np.size(sample_feat)))\n",
      "    i = 0 #index of routes\n",
      "    for r_id in r_ids:\n",
      "        d1_data = th.get_data(driver_1_id, r_id)\n",
      "        X[i, :] = get_features(d1_data, True)\n",
      "        j = 1 #index of drivers\n",
      "        for d_id in drivers_0_ids:\n",
      "            d0_data = th.get_data(d_id, r_id)\n",
      "            X[j*r_num + i, :] = get_features(d0_data, True)\n",
      "            j += 1\n",
      "        i += 1    \n",
      "            \n",
      "        \n",
      "    return X, labels\n",
      "       "
     ],
     "language": "python",
     "metadata": {},
     "outputs": [],
     "prompt_number": 34
    },
    {
     "cell_type": "code",
     "collapsed": false,
     "input": [
      "data = th.get_data(1,2)\n",
      "hh = get_features(data, True, False)\n",
      "\n",
      "print np.size(hh)\n",
      "print np.size(data)\n"
     ],
     "language": "python",
     "metadata": {},
     "outputs": [
      {
       "output_type": "stream",
       "stream": "stdout",
       "text": [
        "8000\n",
        "510\n"
       ]
      }
     ],
     "prompt_number": 33
    },
    {
     "cell_type": "code",
     "collapsed": false,
     "input": [
      "data = th.get_data(1,10)\n",
      "feat = get_features(data, True, True)\n",
      "\n"
     ],
     "language": "python",
     "metadata": {},
     "outputs": [
      {
       "metadata": {},
       "output_type": "display_data",
       "png": "[encoded data removed]",
       "text": [
        "<matplotlib.figure.Figure at 0x108f0ced0>"
       ]
      }
     ],
     "prompt_number": 6
    },
    {
     "cell_type": "code",
     "collapsed": false,
     "input": [
      "print np.diff(data, axis=0)"
     ],
     "language": "python",
     "metadata": {},
     "outputs": [
      {
       "output_type": "stream",
       "stream": "stdout",
       "text": [
        "[[ 0.  1.]\n",
        " [ 1.  0.]\n",
        " [ 0.  1.]]\n"
       ]
      }
     ],
     "prompt_number": 46
    },
    {
     "cell_type": "code",
     "collapsed": false,
     "input": [
      "cosang = np.dot([ 0., 1.], [ 1.,  0.])\n",
      "sinang = np.cross([ 0.,  1.], [ 1.,  0.])\n",
      "print np.arctan2(sinang, cosang)\n",
      "\n",
      "cosang = np.dot([ 1.,  0.], [ 0.,  1.])\n",
      "sinang = np.cross([ 1.,  0.], [ 0.,  1.])\n",
      "print np.arctan2(sinang, cosang)\n",
      "\n"
     ],
     "language": "python",
     "metadata": {},
     "outputs": [
      {
       "output_type": "stream",
       "stream": "stdout",
       "text": [
        "-1.57079632679\n",
        "1.57079632679\n"
       ]
      }
     ],
     "prompt_number": 48
    },
    {
     "cell_type": "code",
     "collapsed": false,
     "input": [
      "labels = np.concatenate([np.full(5, 1,dtype=int), np.full(5,0,dtype=int)])"
     ],
     "language": "python",
     "metadata": {},
     "outputs": [],
     "prompt_number": 79
    },
    {
     "cell_type": "code",
     "collapsed": false,
     "input": [
      "print labels"
     ],
     "language": "python",
     "metadata": {},
     "outputs": [
      {
       "output_type": "stream",
       "stream": "stdout",
       "text": [
        "[1 1 1 1 1 0 0 0 0 0]\n"
       ]
      }
     ],
     "prompt_number": 80
    },
    {
     "cell_type": "code",
     "collapsed": false,
     "input": [],
     "language": "python",
     "metadata": {},
     "outputs": [
      {
       "ename": "SyntaxError",
       "evalue": "invalid syntax (<ipython-input-83-b9613e1b8db5>, line 1)",
       "output_type": "pyerr",
       "traceback": [
        "\u001b[0;36m  File \u001b[0;32m\"<ipython-input-83-b9613e1b8db5>\"\u001b[0;36m, line \u001b[0;32m1\u001b[0m\n\u001b[0;31m    1:20:1j\u001b[0m\n\u001b[0m     ^\u001b[0m\n\u001b[0;31mSyntaxError\u001b[0m\u001b[0;31m:\u001b[0m invalid syntax\n"
       ]
      }
     ],
     "prompt_number": 83
    },
    {
     "cell_type": "code",
     "collapsed": false,
     "input": [
      "print np.shape(th.get_driver_ids())"
     ],
     "language": "python",
     "metadata": {},
     "outputs": [
      {
       "output_type": "stream",
       "stream": "stdout",
       "text": [
        "(2735,)\n"
       ]
      }
     ],
     "prompt_number": 105
    },
    {
     "cell_type": "code",
     "collapsed": false,
     "input": [
      "x = th.get_driver_ids()\n",
      "y = np.delete(x, 1)"
     ],
     "language": "python",
     "metadata": {},
     "outputs": [],
     "prompt_number": 112
    },
    {
     "cell_type": "code",
     "collapsed": false,
     "input": [
      "print np.shape(y)"
     ],
     "language": "python",
     "metadata": {},
     "outputs": [
      {
       "output_type": "stream",
       "stream": "stdout",
       "text": [
        "(2734,)\n"
       ]
      }
     ],
     "prompt_number": 113
    },
    {
     "cell_type": "code",
     "collapsed": false,
     "input": [
      "print np.shape(x)"
     ],
     "language": "python",
     "metadata": {},
     "outputs": [
      {
       "output_type": "stream",
       "stream": "stdout",
       "text": [
        "(2735,)\n"
       ]
      }
     ],
     "prompt_number": 114
    },
    {
     "cell_type": "code",
     "collapsed": false,
     "input": [
      "print np.arange(1,10)"
     ],
     "language": "python",
     "metadata": {},
     "outputs": [
      {
       "output_type": "stream",
       "stream": "stdout",
       "text": [
        "[1 2 3 4 5 6 7 8 9]\n"
       ]
      }
     ],
     "prompt_number": 119
    },
    {
     "cell_type": "code",
     "collapsed": false,
     "input": [],
     "language": "python",
     "metadata": {},
     "outputs": []
    }
   ],
   "metadata": {}
  }
 ]
}