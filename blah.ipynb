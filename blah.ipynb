{
 "metadata": {
  "name": "",
  "signature": "sha256:665881e32e0fcc1b3b0ea855a200c72998587324ea58a056346d2bdc88a116e4"
 },
 "nbformat": 3,
 "nbformat_minor": 0,
 "worksheets": [
  {
   "cells": [
    {
     "cell_type": "code",
     "collapsed": false,
     "input": [
      "import numpy as np\n",
      "class SumAccumulator:\n",
      "    def __init__(self):\n",
      "        self.values = [0]\n",
      "        self.count = 0\n",
      "\n",
      "    def add( self, val ):\n",
      "        self.values.append( val )\n",
      "        self.count = self.count + 1\n",
      "        i = self.count\n",
      "        while i & 0x01:\n",
      "            i = i >> 1\n",
      "            v0 = self.values.pop()\n",
      "            v1 = self.values.pop()\n",
      "            self.values.append( v0 + v1 )\n",
      "\n",
      "    def get_total(self):\n",
      "        return sum( reversed(self.values) )\n",
      "\n",
      "    def get_size( self ):\n",
      "        return self.count\n",
      "    \n",
      "x = SumAccumulator()\n",
      "for i in range(100):\n",
      "    x.add(np.array([1,1]))\n",
      "    #print(x.values)\n",
      "\n",
      "x.get_total()"
     ],
     "language": "python",
     "metadata": {},
     "outputs": [
      {
       "metadata": {},
       "output_type": "pyout",
       "prompt_number": 7,
       "text": [
        "array([100, 100])"
       ]
      }
     ],
     "prompt_number": 7
    },
    {
     "cell_type": "code",
     "collapsed": false,
     "input": [],
     "language": "python",
     "metadata": {},
     "outputs": []
    }
   ],
   "metadata": {}
  }
 ]
}