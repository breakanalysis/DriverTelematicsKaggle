{
 "metadata": {
  "name": "",
  "signature": "sha256:08fa36a1003408260edb3a5f532a419a846fe1c872a14f4d4845853aaa14cb9e"
 },
 "nbformat": 3,
 "nbformat_minor": 0,
 "worksheets": [
  {
   "cells": [
    {
     "cell_type": "code",
     "collapsed": false,
     "input": [
      "import TelematicsHelper as th\n",
      "import matplotlib.pyplot as plt\n",
      "import numpy as np\n",
      "\n",
      "def get_features(data, concat=False, plot=False):\n",
      "    #.shape\n",
      "    len_t = np.shape(data)[0]\n",
      "\n",
      "    times,X = th.rescale_route(data)\n",
      "    curv = th.curvature(data)\n",
      "    vel = th.velocity(data)\n",
      "    acc = th.accel(data, vel)\n",
      "    angles = th.angles(data)*180.0/np.pi\n",
      "\n",
      "    curv = curv[np.isfinite(curv)]\n",
      "\n",
      "    #acc_bins = np.concatenate([np.linspace(-20, -1, 20, endpoint=False), \n",
      "    #                           np.linspace(-1,1,20, endpoint=False), np.linspace(1,20,20)])\n",
      "\n",
      "    #curv_bins = np.concatenate([np.linspace(0,3,40)])\n",
      "\n",
      "    #v_bins = np.concatenate([np.linspace(0,5,20, endpoint=False), np.linspace(20,90,30, endpoint=False),\n",
      "    #                         np.linspace(90,150,5)])\n",
      "\n",
      "    \n",
      "    curv_bins = np.exp(np.linspace(-3, 1, 40))\n",
      "    v_bins = np.exp(np.linspace(-1, 5, 30))\n",
      "    acc_bins = np.concatenate([-np.exp(np.linspace(3,-8, 20)),np.exp(np.linspace(-8,3, 20))]) \n",
      "    ang_bins = np.concatenate([np.linspace(-25,-5,5, endpoint=False), np.linspace(-5,5,20, endpoint=False),\n",
      "                             np.linspace(5,25,5)])\n",
      "\n",
      "    \n",
      "    if (plot):\n",
      "        plt.figure(1)\n",
      "        plt.subplot(141)\n",
      "        plt.hist(vel, bins=v_bins, normed=True)\n",
      "        plt.subplot(142)\n",
      "        plt.hist(acc, bins=acc_bins, normed=True)\n",
      "        plt.subplot(143)\n",
      "        plt.hist(curv, bins=curv_bins, normed=True)\n",
      "        plt.subplot(144)\n",
      "        plt.hist(angles, bins=ang_bins, normed=True)\n",
      "\n",
      "    curv_h, curv_e = np.histogram(curv, bins=curv_bins, density=True)\n",
      "    angles_h, angles_e = np.histogram(angles, bins=ang_bins, density=True)\n",
      "    vel_h, vell_e = np.histogram(vel, bins=v_bins, density=True)\n",
      "    acc_h, acc_e = np.histogram(acc, bins=acc_bins, density=True)\n",
      "    \n",
      "    if (concat):\n",
      "        return np.concatenate([vel_h, acc_h, curv_h, angles_h])\n",
      "    \n",
      "    return vel_h, acc_h, curv_h, angles_h\n",
      "\n",
      "\n",
      "def get_training_data(driver_1_id, drivers_0_ids, r_ids=np.arange(1,201)):\n",
      "## generate one big training data by labeled with ones for driver_1 paths \n",
      "## versus all other drivers routes, labeled. \n",
      "    r_num = np.size(r_ids)\n",
      "    d_num = np.size(drivers_0_ids)\n",
      "    ## ones for the first driver and zeroes for the others\n",
      "    labels = np.concatenate([np.full(r_num, 1, dtype=int), np.full(r_num*d_num, 0, dtype=int)])\n",
      "    \n",
      "    sample_data = th.get_data(driver_1_id, 1)\n",
      "    sample_feat = get_features(sample_data, True)\n",
      "    \n",
      "    X = np.zeros(((d_num+1)*r_num, np.size(sample_feat)))\n",
      "    i = 0 #index of routes\n",
      "    for r_id in r_ids:\n",
      "        d1_data = th.get_data(driver_1_id, r_id)\n",
      "        X[i, :] = get_features(d1_data, True)\n",
      "        j = 1 #index of drivers\n",
      "        for d_id in drivers_0_ids:\n",
      "            d0_data = th.get_data(d_id, r_id)\n",
      "            X[j*r_num + i, :] = get_features(d0_data, True)\n",
      "            j += 1\n",
      "        i += 1    \n",
      "            \n",
      "        \n",
      "    return X, labels\n",
      "       "
     ],
     "language": "python",
     "metadata": {},
     "outputs": [],
     "prompt_number": 99
    },
    {
     "cell_type": "code",
     "collapsed": false,
     "input": [
      "d_0 = np.random.choice(np.arange(2, 2735), 20, replace=False)\n",
      "r_indx = np.random.choice(np.arange(1, 201), 20, replace=False)\n",
      "X, labels = get_training_data(1, d_0, r_indx)\n",
      "\n",
      "print np.shape(X), np.shape(labels)\n"
     ],
     "language": "python",
     "metadata": {},
     "outputs": [
      {
       "output_type": "stream",
       "stream": "stdout",
       "text": [
        "(420, 136) (420,)\n"
       ]
      }
     ],
     "prompt_number": 120
    },
    {
     "cell_type": "code",
     "collapsed": false,
     "input": [
      "data = th.get_data(1,10)\n",
      "feat = get_features(data, True, True)\n",
      "\n"
     ],
     "language": "python",
     "metadata": {},
     "outputs": [
      {
       "output_type": "stream",
       "stream": "stdout",
       "text": [
        "[  0.00000000e+00   3.04619101e+00   0.00000000e+00   4.69922084e+00\n",
        "   0.00000000e+00   3.99449851e+00   5.77411868e+00   2.05404395e+00\n",
        "   1.90874384e+00   1.74600764e+00   4.73228460e-01   7.69567679e-01\n",
        "   3.12869187e-01   4.23991853e-01   2.75799496e-01   6.16697420e-01\n",
        "   2.27926814e-01   4.07721929e-01   6.93178670e-01   8.82197503e-01\n",
        "   8.16945621e-01   6.48060055e-01   1.14609465e+00   2.60287597e+00\n",
        "   1.97705626e+00   1.01268686e+00   0.00000000e+00   0.00000000e+00\n",
        "   0.00000000e+00   4.47297433e-02   2.39414973e-01   1.38825203e+00\n",
        "   5.20776297e+00   1.28041115e+01   2.00142743e+01   2.70520115e+01\n",
        "   2.05931093e+01   1.37780209e+01   2.25336698e+01   1.46195121e+01\n",
        "   1.95626548e+01   2.32685960e+01   0.00000000e+00   3.70345847e+01\n",
        "   0.00000000e+00   0.00000000e+00   0.00000000e+00   0.00000000e+00\n",
        "   5.14972999e+03   0.00000000e+00   0.00000000e+00   0.00000000e+00\n",
        "   6.60756016e+01   3.70345847e+01   2.07574419e+01   2.32685960e+01\n",
        "   1.30417699e+01   7.30975607e+00   2.04851544e+01   1.83706946e+01\n",
        "   1.67319013e+01   2.30843831e+01   1.90034523e+01   1.47303938e+01\n",
        "   5.52530950e+00   1.45944444e+00   1.79561230e-01   3.35473075e-02\n",
        "   0.00000000e+00   0.00000000e+00   4.09391140e+02   7.38967625e+02\n",
        "   1.00039992e+03   3.00960409e+02   8.14868630e+02   2.45145159e+02\n",
        "   2.21248481e+02   7.98724975e+02   3.60432750e+02   0.00000000e+00\n",
        "   0.00000000e+00   2.64969065e+02   0.00000000e+00   2.15828666e+02\n",
        "   0.00000000e+00   0.00000000e+00   0.00000000e+00   0.00000000e+00\n",
        "   6.46195622e+01   1.16640933e+02   1.05270809e+02   9.50090413e+01\n",
        "   0.00000000e+00   0.00000000e+00   0.00000000e+00   3.15183044e+01\n",
        "   2.84459093e+01   2.56730104e+01   6.95112388e+01   0.00000000e+00\n",
        "   0.00000000e+00   0.00000000e+00   0.00000000e+00   0.00000000e+00\n",
        "   0.00000000e+00   0.00000000e+00   2.03995026e+01   1.54958678e-01\n",
        "   1.80785124e-01   3.35743802e-01   1.03305785e-01   1.08471074e+00\n",
        "   1.65289256e+00   2.68595041e+00   1.85950413e+00   2.68595041e+00\n",
        "   3.09917355e+00   4.54545455e+00   1.07438017e+01   1.42561983e+01\n",
        "   1.52892562e+01   2.08677686e+01   3.47107438e+01   1.79752066e+01\n",
        "   1.59090909e+01   9.29752066e+00   6.40495868e+00   3.09917355e+00\n",
        "   3.51239669e+00   3.30578512e+00   1.03305785e+00   1.65289256e+00\n",
        "   4.13223140e-01   2.68595041e-01   1.85950413e-01   1.85950413e-01]\n"
       ]
      },
      {
       "metadata": {},
       "output_type": "display_data",
       "png": "[encoded data removed]",
       "text": [
        "<matplotlib.figure.Figure at 0x109ef1690>"
       ]
      }
     ],
     "prompt_number": 66
    },
    {
     "cell_type": "code",
     "collapsed": false,
     "input": [
      "print np.diff(data, axis=0)"
     ],
     "language": "python",
     "metadata": {},
     "outputs": [
      {
       "output_type": "stream",
       "stream": "stdout",
       "text": [
        "[[ 0.  1.]\n",
        " [ 1.  0.]\n",
        " [ 0.  1.]]\n"
       ]
      }
     ],
     "prompt_number": 46
    },
    {
     "cell_type": "code",
     "collapsed": false,
     "input": [
      "cosang = np.dot([ 0., 1.], [ 1.,  0.])\n",
      "sinang = np.cross([ 0.,  1.], [ 1.,  0.])\n",
      "print np.arctan2(sinang, cosang)\n",
      "\n",
      "cosang = np.dot([ 1.,  0.], [ 0.,  1.])\n",
      "sinang = np.cross([ 1.,  0.], [ 0.,  1.])\n",
      "print np.arctan2(sinang, cosang)\n",
      "\n"
     ],
     "language": "python",
     "metadata": {},
     "outputs": [
      {
       "output_type": "stream",
       "stream": "stdout",
       "text": [
        "-1.57079632679\n",
        "1.57079632679\n"
       ]
      }
     ],
     "prompt_number": 48
    },
    {
     "cell_type": "code",
     "collapsed": false,
     "input": [
      "labels = np.concatenate([np.full(5, 1,dtype=int), np.full(5,0,dtype=int)])"
     ],
     "language": "python",
     "metadata": {},
     "outputs": [],
     "prompt_number": 79
    },
    {
     "cell_type": "code",
     "collapsed": false,
     "input": [
      "print labels"
     ],
     "language": "python",
     "metadata": {},
     "outputs": [
      {
       "output_type": "stream",
       "stream": "stdout",
       "text": [
        "[1 1 1 1 1 0 0 0 0 0]\n"
       ]
      }
     ],
     "prompt_number": 80
    },
    {
     "cell_type": "code",
     "collapsed": false,
     "input": [],
     "language": "python",
     "metadata": {},
     "outputs": [
      {
       "ename": "SyntaxError",
       "evalue": "invalid syntax (<ipython-input-83-b9613e1b8db5>, line 1)",
       "output_type": "pyerr",
       "traceback": [
        "\u001b[0;36m  File \u001b[0;32m\"<ipython-input-83-b9613e1b8db5>\"\u001b[0;36m, line \u001b[0;32m1\u001b[0m\n\u001b[0;31m    1:20:1j\u001b[0m\n\u001b[0m     ^\u001b[0m\n\u001b[0;31mSyntaxError\u001b[0m\u001b[0;31m:\u001b[0m invalid syntax\n"
       ]
      }
     ],
     "prompt_number": 83
    },
    {
     "cell_type": "code",
     "collapsed": false,
     "input": [
      "print np.shape(th.get_driver_ids())"
     ],
     "language": "python",
     "metadata": {},
     "outputs": [
      {
       "output_type": "stream",
       "stream": "stdout",
       "text": [
        "(2735,)\n"
       ]
      }
     ],
     "prompt_number": 105
    },
    {
     "cell_type": "code",
     "collapsed": false,
     "input": [
      "x = th.get_driver_ids()\n",
      "y = np.delete(x, 1)"
     ],
     "language": "python",
     "metadata": {},
     "outputs": [],
     "prompt_number": 112
    },
    {
     "cell_type": "code",
     "collapsed": false,
     "input": [
      "print np.shape(y)"
     ],
     "language": "python",
     "metadata": {},
     "outputs": [
      {
       "output_type": "stream",
       "stream": "stdout",
       "text": [
        "(2734,)\n"
       ]
      }
     ],
     "prompt_number": 113
    },
    {
     "cell_type": "code",
     "collapsed": false,
     "input": [
      "print np.shape(x)"
     ],
     "language": "python",
     "metadata": {},
     "outputs": [
      {
       "output_type": "stream",
       "stream": "stdout",
       "text": [
        "(2735,)\n"
       ]
      }
     ],
     "prompt_number": 114
    },
    {
     "cell_type": "code",
     "collapsed": false,
     "input": [
      "print np.arange(1,10)"
     ],
     "language": "python",
     "metadata": {},
     "outputs": [
      {
       "output_type": "stream",
       "stream": "stdout",
       "text": [
        "[1 2 3 4 5 6 7 8 9]\n"
       ]
      }
     ],
     "prompt_number": 119
    },
    {
     "cell_type": "code",
     "collapsed": false,
     "input": [],
     "language": "python",
     "metadata": {},
     "outputs": []
    }
   ],
   "metadata": {}
  }
 ]
}