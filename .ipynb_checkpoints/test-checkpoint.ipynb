{
 "worksheets": [
  {
   "cells": [
    {
     "cell_type": "code",
     "metadata": {},
     "outputs": [],
     "input": [
      "dfwef"
     ],
     "language": "python"
    }
   ]
  }
 ],
 "cells": [],
 "metadata": {
  "name": "",
  "signature": "sha256:adf20cff3dfabf9f4848c0b47c4aa91d7c73769b5eb94b27668bac9a02a20b95"
 },
 "nbformat": 3,
 "nbformat_minor": 0
}