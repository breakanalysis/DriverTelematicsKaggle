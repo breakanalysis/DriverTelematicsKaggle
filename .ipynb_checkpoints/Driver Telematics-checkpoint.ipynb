{
 "metadata": {
  "name": "",
  "signature": "sha256:7c266b65da528878a53854bab30dab088a3b2b5649c4bc154433a7cfb88d27a7"
 },
 "nbformat": 3,
 "nbformat_minor": 0,
 "worksheets": [
  {
   "cells": [
    {
     "cell_type": "code",
     "collapsed": false,
     "input": [
      "%run TelematicsHelper.ipynb\n",
      "\n",
      "\n",
      "\n",
      "\n",
      "#data = get_data(np.random.randint(2783)+1,np.random.randint(200)+1)\n",
      "\n",
      "#draw_trip(1,2)\n",
      "#draw_vt(13,52)\n",
      "#draw_curvature(13,52)\n",
      "\n",
      "data = np.array([[np.cos(t),np.sin(t)] for t in np.linspace(0,2*math.pi,100)])\n",
      "out_times = range(np.size(data,0)+1)\n",
      "curv = curvature(data,out_times)\n",
      "\n",
      "#plt.scatter(data[:,0],data[:,1])\n",
      "plt.plot(curv)"
     ],
     "language": "python",
     "metadata": {},
     "outputs": [
      {
       "output_type": "stream",
       "stream": "stdout",
       "text": [
        "-0.314159265359\n"
       ]
      },
      {
       "metadata": {},
       "output_type": "pyout",
       "prompt_number": 92,
       "text": [
        "[<matplotlib.lines.Line2D at 0x10ab2bc90>]"
       ]
      },
      {
       "metadata": {},
       "output_type": "display_data",
       "png": "[encoded data removed]",
       "text": [
        "<matplotlib.figure.Figure at 0x108e17c10>"
       ]
      }
     ],
     "prompt_number": 92
    },
    {
     "cell_type": "code",
     "collapsed": false,
     "input": [
      "import numpy as np\n",
      "import math\n",
      "\n",
      "int(0.97)"
     ],
     "language": "python",
     "metadata": {},
     "outputs": [
      {
       "metadata": {},
       "output_type": "pyout",
       "prompt_number": 73,
       "text": [
        "0"
       ]
      }
     ],
     "prompt_number": 73
    },
    {
     "cell_type": "code",
     "collapsed": false,
     "input": [],
     "language": "python",
     "metadata": {},
     "outputs": [],
     "prompt_number": 58
    },
    {
     "cell_type": "code",
     "collapsed": false,
     "input": [],
     "language": "python",
     "metadata": {},
     "outputs": []
    }
   ],
   "metadata": {}
  }
 ]
}